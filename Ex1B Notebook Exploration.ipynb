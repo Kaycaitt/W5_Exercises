{
 "cells": [
  {
   "cell_type": "code",
   "execution_count": 1,
   "id": "547845df-7e6b-466e-9508-31ebb592239e",
   "metadata": {},
   "outputs": [
    {
     "name": "stdout",
     "output_type": "stream",
     "text": [
      "hello world\n"
     ]
    }
   ],
   "source": [
    "print('hello world')"
   ]
  },
  {
   "cell_type": "code",
   "execution_count": 4,
   "id": "87167f41-dfdc-4d03-9e9d-7aeac84a5f15",
   "metadata": {},
   "outputs": [],
   "source": [
    "id = '52364' #string, don't want integer because the number shouldn't be operated on\n",
    "\n",
    "fullname = 'Rose Marie Cohan' #string, should be text/characters\n",
    "\n",
    "gender = 'Female' #string, text/characters, I would put Boolean, but there can be so many genders\n",
    "\n",
    "birthdate = 'February 20 1450' #string, should be text/characters\n",
    "\n",
    "dlnumber = 'C64289344271' #string, should be text/characters\n",
    "\n",
    "autopolicynumber = '9781563123' #string, should be text/characters"
   ]
  },
  {
   "cell_type": "code",
   "execution_count": null,
   "id": "bc371bcc-3d8c-445a-baab-1db37f4a7b61",
   "metadata": {},
   "outputs": [],
   "source": [
    "#nothing is displayed when I run the above block."
   ]
  },
  {
   "cell_type": "code",
   "execution_count": 6,
   "id": "a9931865-01a5-4c19-8a13-d73950b03090",
   "metadata": {},
   "outputs": [
    {
     "name": "stdout",
     "output_type": "stream",
     "text": [
      "Rose Marie Cohan\n"
     ]
    }
   ],
   "source": [
    "print (fullname)"
   ]
  },
  {
   "cell_type": "code",
   "execution_count": null,
   "id": "c3b9c303-c033-4aae-8edd-3a7a67000149",
   "metadata": {},
   "outputs": [],
   "source": []
  }
 ],
 "metadata": {
  "kernelspec": {
   "display_name": "Python 3 (ipykernel)",
   "language": "python",
   "name": "python3"
  },
  "language_info": {
   "codemirror_mode": {
    "name": "ipython",
    "version": 3
   },
   "file_extension": ".py",
   "mimetype": "text/x-python",
   "name": "python",
   "nbconvert_exporter": "python",
   "pygments_lexer": "ipython3",
   "version": "3.12.6"
  }
 },
 "nbformat": 4,
 "nbformat_minor": 5
}
